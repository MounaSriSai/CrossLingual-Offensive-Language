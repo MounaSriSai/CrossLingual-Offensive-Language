{
 "cells": [
  {
   "cell_type": "code",
   "execution_count": 7,
   "metadata": {
    "colab": {
     "base_uri": "https://localhost:8080/",
     "height": 1000
    },
    "executionInfo": {
     "elapsed": 4516,
     "status": "ok",
     "timestamp": 1718609104137,
     "user": {
      "displayName": "Jada Jasphin",
      "userId": "06483295825871656487"
     },
     "user_tz": -330
    },
    "id": "wRMTRvLHE7iy",
    "outputId": "0abf91e2-840b-4271-eb04-474d6e6804a2"
   },
   "outputs": [
    {
     "name": "stdout",
     "output_type": "stream",
     "text": [
      "\n",
      "*********************** Processing of ARABIC Language *****************************\n",
      "\n",
      "<class 'pandas.core.frame.DataFrame'>\n",
      "RangeIndex: 5846 entries, 0 to 5845\n",
      "Data columns (total 2 columns):\n",
      " #   Column  Non-Null Count  Dtype \n",
      "---  ------  --------------  ----- \n",
      " 0   Tweet   5846 non-null   object\n",
      " 1   Class   5846 non-null   object\n",
      "dtypes: object(2)\n",
      "memory usage: 91.5+ KB\n",
      "None\n",
      "\n",
      "Target Variants:\n",
      " normal     3650\n",
      "abusive    1728\n",
      "hate        468\n",
      "Name: Class, dtype: int64\n",
      "\n",
      "ARABIC DATA FRAME:\n",
      "                                                   Tweet    Class\n",
      "0     Ø§ÙÙØ²ÙØ± Ø¬Ø¨Ø±Ø§Ù Ø¨Ø§Ø³ÙÙ ØªØ§Ø¬ Ø±Ø§...  abusive\n",
      "1     ØµØ¯ÙÙÙ Ø§ÙØª Ø§Ø¨Ù Ø¬Ø§Ù",
      "Ø¹Ù Ø§ÙÙØ¹Ø¨...   normal\n",
      "2     Ù Ù",
      "ØµÙØ­Ø© ÙØ¨ÙØ§Ù ØªØ¨Ø¯Ø£ Ø¨Ø§Ø³ØªØ®Ø±...   normal\n",
      "3     ÙÙÙØ¯ Ø¬ÙØ¨ÙØ§Ø· ÙØ§ØªØ¨ Ø§ÙØ­ÙÙ",
      "Ø© Ù...  abusive\n",
      "4     Ø´Ù Ø¨ØªÙØ¨ÙÙÙ ÙÙÙ",
      "Ø© Ø®ÙØ²ÙØ± Ø¨ØªØ¬...  abusive\n",
      "...                                                 ...      ...\n",
      "5841            Ø£Ù",
      "ÙØ± Ø§ÙÙ",
      "ÙÙØ´ÙØ§ Ù",
      "Ø´ Ø®Ø§Ø¦Ù   normal\n",
      "5842               ØµØ¯ÙØª ÙÙØ§Ø³Ø¨Ù Ø¬Ø¯Ø§ Ø¬Ø¯Ø§    normal\n",
      "5843        ÙØ¨Ø®ÙÙÙÙ Ø­Ø¨ Ø¨Ø§Ø³ÙÙ Ø´ØºÙØªÙÙ   normal\n",
      "5844  ÙÙØ´ ØªÙÙØ³ Ø§ÙØ¥Ù",
      "Ø§Ø±Øª ÙØ§ÙØ³Ø¹ÙØ¯Ù...     hate\n",
      "5845  Ù",
      "Ø´ Ø¯ÙØ§Ø¹Ø§Ù Ø¹Ù Ø¬Ø¨Ø±Ø§Ù Ø¨Ø§Ø³ÙÙ Ø...   normal\n",
      "\n",
      "[5846 rows x 2 columns]\n",
      "\n",
      "NaN Values in the Arabic Language : 0\n",
      "Duplicates in the Arabic Language   : 88\n",
      "Processed ARABIC Data Shape: (5758, 2)\n"
     ]
    },
    {
     "data": {
      "image/png": "[encoded data removed]",
      "text/plain": [
       "<Figure size 432x288 with 1 Axes>"
      ]
     },
     "metadata": {
      "needs_background": "light"
     },
     "output_type": "display_data"
    },
    {
     "name": "stdout",
     "output_type": "stream",
     "text": [
      "\n",
      "*****************************Processed ARABIC Data******************************\n",
      "                                                   Tweet  Class\n",
      "0     Ø§ÙÙØ²ÙØ± Ø¬Ø¨Ø±Ø§Ù Ø¨Ø§Ø³ÙÙ ØªØ§Ø¬ Ø±Ø§...      0\n",
      "1     ØµØ¯ÙÙÙ Ø§ÙØª Ø§Ø¨Ù Ø¬Ø§Ù",
      "Ø¹Ù Ø§ÙÙØ¹Ø¨...      2\n",
      "2     Ù Ù",
      "ØµÙØ­Ø© ÙØ¨ÙØ§Ù ØªØ¨Ø¯Ø£ Ø¨Ø§Ø³ØªØ®Ø±...      2\n",
      "3     ÙÙÙØ¯ Ø¬ÙØ¨ÙØ§Ø· ÙØ§ØªØ¨ Ø§ÙØ­ÙÙ",
      "Ø© Ù...      0\n",
      "4     Ø´Ù Ø¨ØªÙØ¨ÙÙÙ ÙÙÙ",
      "Ø© Ø®ÙØ²ÙØ± Ø¨ØªØ¬...      0\n",
      "...                                                 ...    ...\n",
      "5840  Ø§Ø³Ù",
      " Ø§ÙÙÙ Ø¹ÙÙÙ ÙØ±Ø¬ÙÙÙ Ø¹Ø±Ø¶ Ù...      2\n",
      "5841            Ø£Ù",
      "ÙØ± Ø§ÙÙ",
      "ÙÙØ´ÙØ§ Ù",
      "Ø´ Ø®Ø§Ø¦Ù      2\n",
      "5842               ØµØ¯ÙØª ÙÙØ§Ø³Ø¨Ù Ø¬Ø¯Ø§ Ø¬Ø¯Ø§       2\n",
      "5843        ÙØ¨Ø®ÙÙÙÙ Ø­Ø¨ Ø¨Ø§Ø³ÙÙ Ø´ØºÙØªÙÙ      2\n",
      "5844  ÙÙØ´ ØªÙÙØ³ Ø§ÙØ¥Ù",
      "Ø§Ø±Øª ÙØ§ÙØ³Ø¹ÙØ¯Ù...      1\n",
      "\n",
      "[5758 rows x 2 columns]\n"
     ]
    }
   ],
   "source": [
    "import pandas as offpn\n",
    "import seaborn as offSbr\n",
    "import matplotlib.pyplot as offmtplt\n",
    "from sklearn import preprocessing as offencodproc\n",
    "import warnings as offwrg\n",
    "offwrg.filterwarnings('ignore')\n",
    "\n",
    "print(\"\\n*********************** Processing of ARABIC Language *****************************\\n\")\n",
    "off_data = 'L-HSAB.txt'\n",
    "off_lang = offpn.read_csv(off_data, delimiter='\\t', encoding='latin1')\n",
    "print(off_lang.info())\n",
    "print(\"\\nTarget Variants:\\n\",off_lang['Class'].value_counts())\n",
    "print(\"\\nARABIC DATA FRAME:\\n\", off_lang)\n",
    "\n",
    "print(\"\\nNaN Values in the Arabic Language :\", off_lang.isnull().values.sum())\n",
    "print(\"Duplicates in the Arabic Language   :\", off_lang.duplicated().values.sum())\n",
    "off_lang = off_lang.drop_duplicates()\n",
    "print(\"Processed ARABIC Data Shape:\",off_lang.shape)\n",
    "\n",
    "offSbr.countplot(x ='Class', data = off_lang, palette = 'dark')\n",
    "offmtplt.title(\"Arabic Language Variants\")\n",
    "offmtplt.show()\n",
    "\n",
    "# Changing object to Numerical Format\n",
    "off_encodprocess = offencodproc.LabelEncoder()\n",
    "off_lang['Class']= off_encodprocess.fit_transform(off_lang['Class'])\n",
    "\n",
    "off_lang.to_csv(\"processedArabic.csv\", index=False)\n",
    "print(\"\\n*****************************Processed ARABIC Data******************************\\n\",off_lang)"
   ]
  },
  {
   "cell_type": "code",
   "execution_count": 9,
   "metadata": {
    "colab": {
     "base_uri": "https://localhost:8080/",
     "height": 1000
    },
    "executionInfo": {
     "elapsed": 4277,
     "status": "ok",
     "timestamp": 1718609148632,
     "user": {
      "displayName": "Jada Jasphin",
      "userId": "06483295825871656487"
     },
     "user_tz": -330
    },
    "id": "D4trUHVjE7li",
    "outputId": "a1da65cd-aba6-4e35-a06a-ab9f390a56c7",
    "scrolled": false
   },
   "outputs": [
    {
     "name": "stdout",
     "output_type": "stream",
     "text": [
      "\n",
      "***************************** Processing of ENGLISH Language ***************************\n",
      "\n",
      "<class 'pandas.core.frame.DataFrame'>\n",
      "RangeIndex: 24783 entries, 0 to 24782\n",
      "Data columns (total 7 columns):\n",
      " #   Column              Non-Null Count  Dtype \n",
      "---  ------              --------------  ----- \n",
      " 0   Unnamed: 0          24783 non-null  int64 \n",
      " 1   count               24783 non-null  int64 \n",
      " 2   hate_speech         24783 non-null  int64 \n",
      " 3   offensive_language  24783 non-null  int64 \n",
      " 4   neither             24783 non-null  int64 \n",
      " 5   class               24783 non-null  int64 \n",
      " 6   tweet               24783 non-null  object\n",
      "dtypes: int64(6), object(1)\n",
      "memory usage: 1.3+ MB\n",
      "None\n",
      "\n",
      "Target Variants:\n",
      " 1    19190\n",
      "2     4163\n",
      "0     1430\n",
      "Name: class, dtype: int64\n",
      "\n",
      "ENGLISH DATA FRAME:\n",
      "        Unnamed: 0  count  hate_speech  offensive_language  neither  class  \\\n",
      "0               0      3            0                   0        3      2   \n",
      "1               1      3            0                   3        0      1   \n",
      "2               2      3            0                   3        0      1   \n",
      "3               3      3            0                   2        1      1   \n",
      "4               4      6            0                   6        0      1   \n",
      "...           ...    ...          ...                 ...      ...    ...   \n",
      "24778       25291      3            0                   2        1      1   \n",
      "24779       25292      3            0                   1        2      2   \n",
      "24780       25294      3            0                   3        0      1   \n",
      "24781       25295      6            0                   6        0      1   \n",
      "24782       25296      3            0                   0        3      2   \n",
      "\n",
      "                                                   tweet  \n",
      "0      !!! RT @mayasolovely: As a woman you shouldn't...  \n",
      "1      !!!!! RT @mleew17: boy dats cold...tyga dwn ba...  \n",
      "2      !!!!!!! RT @UrKindOfBrand Dawg!!!! RT @80sbaby...  \n",
      "3      !!!!!!!!! RT @C_G_Anderson: @viva_based she lo...  \n",
      "4      !!!!!!!!!!!!! RT @ShenikaRoberts: The shit you...  \n",
      "...                                                  ...  \n",
      "24778  you's a muthaf***in lie &#8220;@LifeAsKing: @2...  \n",
      "24779  you've gone and broke the wrong heart baby, an...  \n",
      "24780  young buck wanna eat!!.. dat nigguh like I ain...  \n",
      "24781              youu got wild bitches tellin you lies  \n",
      "24782  ~~Ruffled | Ntac Eileen Dahlia - Beautiful col...  \n",
      "\n",
      "[24783 rows x 7 columns]\n",
      "\n",
      "NaN Values in the English Language : 0\n",
      "Duplicates in the English Language  : 0\n"
     ]
    },
    {
     "name": "stderr",
     "output_type": "stream",
     "text": [
      "[nltk_data] Downloading package stopwords to\n",
      "[nltk_data]     /Users/saitejamaddineni/nltk_data...\n",
      "[nltk_data]   Package stopwords is already up-to-date!\n"
     ]
    },
    {
     "name": "stdout",
     "output_type": "stream",
     "text": [
      "\n",
      "English Language Data Frame without Stopwords:\n",
      "        class                                              tweet\n",
      "0          2  mayasolovely woman complain cleaning house amp...\n",
      "1          1  mleew boy dats cold tyga dwn bad cuffin dat ho...\n",
      "2          1  urkindofbrand dawg sbaby life ever fuck bitch ...\n",
      "3          1           c g anderson viva based look like tranny\n",
      "4          1  shenikarobe shit hear might true might faker b...\n",
      "...      ...                                                ...\n",
      "24778      1  muthaf lie lifeasking pearls corey emanuel rig...\n",
      "24779      2      gone broke wrong hea baby drove redneck crazy\n",
      "24780      1  young buck wanna eat dat nigguh like aint fuck...\n",
      "24781      1                  youu got wild bitches tellin lies\n",
      "24782      2  ruffled ntac eileen dahlia beautiful color com...\n",
      "\n",
      "[24783 rows x 2 columns]\n"
     ]
    },
    {
     "data": {
      "image/png": "[encoded data removed]",
      "text/plain": [
       "<Figure size 432x288 with 1 Axes>"
      ]
     },
     "metadata": {
      "needs_background": "light"
     },
     "output_type": "display_data"
    },
    {
     "name": "stdout",
     "output_type": "stream",
     "text": [
      "\n",
      "***************************Processed ENGLISH Data********************************\n",
      "        class                                              tweet\n",
      "0          2  mayasolovely woman complain cleaning house amp...\n",
      "1          1  mleew boy dats cold tyga dwn bad cuffin dat ho...\n",
      "2          1  urkindofbrand dawg sbaby life ever fuck bitch ...\n",
      "3          1           c g anderson viva based look like tranny\n",
      "4          1  shenikarobe shit hear might true might faker b...\n",
      "...      ...                                                ...\n",
      "24778      1  muthaf lie lifeasking pearls corey emanuel rig...\n",
      "24779      2      gone broke wrong hea baby drove redneck crazy\n",
      "24780      1  young buck wanna eat dat nigguh like aint fuck...\n",
      "24781      1                  youu got wild bitches tellin lies\n",
      "24782      2  ruffled ntac eileen dahlia beautiful color com...\n",
      "\n",
      "[24783 rows x 2 columns]\n"
     ]
    }
   ],
   "source": [
    "print(\"\\n***************************** Processing of ENGLISH Language ***************************\\n\")\n",
    "off_data = 'labeled_data.csv'\n",
    "off_lang = offpn.read_csv(off_data, encoding='latin1')\n",
    "print(off_lang.info())\n",
    "print(\"\\nTarget Variants:\\n\",off_lang['class'].value_counts())\n",
    "print(\"\\nENGLISH DATA FRAME:\\n\", off_lang)\n",
    "\n",
    "del off_lang['Unnamed: 0']\n",
    "del off_lang['count']\n",
    "del off_lang['hate_speech']\n",
    "del off_lang['offensive_language']\n",
    "del off_lang['neither']\n",
    "\n",
    "print(\"\\nNaN Values in the English Language :\", off_lang.isnull().values.sum())\n",
    "print(\"Duplicates in the English Language  :\", off_lang.duplicated().values.sum())\n",
    "\n",
    "\n",
    "\n",
    "# NLP Techniques for Stopwords Removal\n",
    "import nltk as off_naturl\n",
    "off_naturl.download('stopwords')\n",
    "import regex as off_RX\n",
    "from nltk.corpus import stopwords as offlang_wrd\n",
    "offlang_sw = offlang_wrd.words('english')\n",
    "def lang(eng):\n",
    "    eng = eng.lower()\n",
    "    eng = off_RX.sub(\"[^a-z]+\", \" \", eng)\n",
    "    eng = off_RX.sub(r'rt+', \" \", eng)\n",
    "    eng = \" \".join([bic for bic in eng.split() if bic not in offlang_sw])\n",
    "    return eng\n",
    "\n",
    "langLs = []  # creating new list\n",
    "for l in off_lang['tweet']:\n",
    "  langLs.append(lang(l))\n",
    "off_lang['tweet'] = langLs\n",
    "print(\"\\nEnglish Language Data Frame without Stopwords:\\n\",off_lang)\n",
    "\n",
    "offSbr.countplot(x ='class', data = off_lang, palette = 'bright')\n",
    "offmtplt.title(\"English Language Variants\")\n",
    "offmtplt.show()\n",
    "\n",
    "# Changing object to Numerical Format\n",
    "\n",
    "off_encodprocess = offencodproc.LabelEncoder()\n",
    "off_lang['class']= off_encodprocess.fit_transform(off_lang['class'])\n",
    "\n",
    "off_lang.to_csv(\"processedEnglish.csv\", index=False)\n",
    "print(\"\\n***************************Processed ENGLISH Data********************************\\n\",off_lang)"
   ]
  },
  {
   "cell_type": "code",
   "execution_count": null,
   "metadata": {},
   "outputs": [],
   "source": []
  }
 ],
 "metadata": {
  "colab": {
   "authorship_tag": "ABX9TyMorxbgJPrxi1uz6/iHqIED",
   "provenance": []
  },
  "kernelspec": {
   "display_name": "Python 3 (ipykernel)",
   "language": "python",
   "name": "python3"
  },
  "language_info": {
   "codemirror_mode": {
    "name": "ipython",
    "version": 3
   },
   "file_extension": ".py",
   "mimetype": "text/x-python",
   "name": "python",
   "nbconvert_exporter": "python",
   "pygments_lexer": "ipython3",
   "version": "3.9.12"
  }
 },
 "nbformat": 4,
 "nbformat_minor": 1
}
